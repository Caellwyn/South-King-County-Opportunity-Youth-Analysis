{
 "cells": [
  {
   "cell_type": "code",
   "execution_count": 2,
   "metadata": {},
   "outputs": [],
   "source": [
    "import os\n",
    "import sys\n",
    "module_path = os.path.abspath(os.path.join(os.pardir, os.pardir))\n",
    "if module_path not in sys.path:\n",
    "    sys.path.append(module_path)"
   ]
  },
  {
   "cell_type": "code",
   "execution_count": 3,
   "metadata": {},
   "outputs": [],
   "source": [
    "from src.data import data_collection"
   ]
  },
  {
   "cell_type": "code",
   "execution_count": 500,
   "metadata": {},
   "outputs": [],
   "source": [
    "import psycopg2\n",
    "import pandas as pd\n",
    "import matplotlib.pyplot as plt\n",
    "import seaborn as sns\n",
    "%matplotlib inline"
   ]
  },
  {
   "cell_type": "code",
   "execution_count": 8,
   "metadata": {},
   "outputs": [],
   "source": [
    "DBNAME = \"opportunity_youth\""
   ]
  },
  {
   "cell_type": "code",
   "execution_count": 9,
   "metadata": {},
   "outputs": [],
   "source": [
    "conn = psycopg2.connect(dbname=DBNAME)"
   ]
  },
  {
   "cell_type": "code",
   "execution_count": 403,
   "metadata": {},
   "outputs": [],
   "source": [
    "#Filtered the 2017 pums to select from south king county region, Age 16-24, not have a job and not in school. \n",
    "#There are the areas we chose because we figured they had a larger amount of OY and its a part of what the origonal data included\n",
    "#Auburn,Federal Way, Highline, Kent, Renton, (South) Seattle, and Tukwila was what the origonal data included. \n",
    "df1 = pd.read_sql('''SELECT * \n",
    "FROM pums_2017\n",
    "WHERE puma IN ('11612','11613','11614','11615','11604', '11610', '11611')\n",
    "AND agep BETWEEN '16' AND '24'\n",
    "AND cow = '9'\n",
    "AND fschp = '0'\n",
    ";''', conn)"
   ]
  },
  {
   "cell_type": "code",
   "execution_count": 468,
   "metadata": {},
   "outputs": [
    {
     "data": {
      "text/plain": [
       "2105.0"
      ]
     },
     "execution_count": 468,
     "metadata": {},
     "output_type": "execute_result"
    }
   ],
   "source": [
    "#a list of the estimated population by each region and the total population for all 7 regions\n",
    "population = df1.groupby('puma')['pwgtp'].sum()   # pwgtp was the weight each person held I grouped by the puma then took the sum of the pwgtp per each puma\n",
    "estimated_population = sum(population)\n",
    "estimated_population"
   ]
  },
  {
   "cell_type": "code",
   "execution_count": 508,
   "metadata": {},
   "outputs": [
    {
     "data": {
      "text/html": [
       "<div>\n",
       "<style scoped>\n",
       "    .dataframe tbody tr th:only-of-type {\n",
       "        vertical-align: middle;\n",
       "    }\n",
       "\n",
       "    .dataframe tbody tr th {\n",
       "        vertical-align: top;\n",
       "    }\n",
       "\n",
       "    .dataframe thead th {\n",
       "        text-align: right;\n",
       "    }\n",
       "</style>\n",
       "<table border=\"1\" class=\"dataframe\">\n",
       "  <thead>\n",
       "    <tr style=\"text-align: right;\">\n",
       "      <th></th>\n",
       "      <th>rt</th>\n",
       "      <th>serialno</th>\n",
       "      <th>division</th>\n",
       "      <th>sporder</th>\n",
       "      <th>puma</th>\n",
       "      <th>region</th>\n",
       "      <th>st</th>\n",
       "      <th>adjinc</th>\n",
       "      <th>pwgtp</th>\n",
       "      <th>agep</th>\n",
       "      <th>...</th>\n",
       "      <th>pwgtp71</th>\n",
       "      <th>pwgtp72</th>\n",
       "      <th>pwgtp73</th>\n",
       "      <th>pwgtp74</th>\n",
       "      <th>pwgtp75</th>\n",
       "      <th>pwgtp76</th>\n",
       "      <th>pwgtp77</th>\n",
       "      <th>pwgtp78</th>\n",
       "      <th>pwgtp79</th>\n",
       "      <th>pwgtp80</th>\n",
       "    </tr>\n",
       "  </thead>\n",
       "  <tbody>\n",
       "    <tr>\n",
       "      <th>0</th>\n",
       "      <td>P</td>\n",
       "      <td>2013000188706</td>\n",
       "      <td>9</td>\n",
       "      <td>03</td>\n",
       "      <td>11604</td>\n",
       "      <td>4</td>\n",
       "      <td>53</td>\n",
       "      <td>1061971</td>\n",
       "      <td>29.0</td>\n",
       "      <td>19.0</td>\n",
       "      <td>...</td>\n",
       "      <td>29.0</td>\n",
       "      <td>40.0</td>\n",
       "      <td>13.0</td>\n",
       "      <td>10.0</td>\n",
       "      <td>44.0</td>\n",
       "      <td>34.0</td>\n",
       "      <td>42.0</td>\n",
       "      <td>57.0</td>\n",
       "      <td>31.0</td>\n",
       "      <td>7.0</td>\n",
       "    </tr>\n",
       "    <tr>\n",
       "      <th>1</th>\n",
       "      <td>P</td>\n",
       "      <td>2013000179295</td>\n",
       "      <td>9</td>\n",
       "      <td>03</td>\n",
       "      <td>11612</td>\n",
       "      <td>4</td>\n",
       "      <td>53</td>\n",
       "      <td>1061971</td>\n",
       "      <td>74.0</td>\n",
       "      <td>16.0</td>\n",
       "      <td>...</td>\n",
       "      <td>115.0</td>\n",
       "      <td>27.0</td>\n",
       "      <td>25.0</td>\n",
       "      <td>59.0</td>\n",
       "      <td>49.0</td>\n",
       "      <td>133.0</td>\n",
       "      <td>136.0</td>\n",
       "      <td>26.0</td>\n",
       "      <td>68.0</td>\n",
       "      <td>103.0</td>\n",
       "    </tr>\n",
       "    <tr>\n",
       "      <th>2</th>\n",
       "      <td>P</td>\n",
       "      <td>2013000208643</td>\n",
       "      <td>9</td>\n",
       "      <td>04</td>\n",
       "      <td>11615</td>\n",
       "      <td>4</td>\n",
       "      <td>53</td>\n",
       "      <td>1061971</td>\n",
       "      <td>17.0</td>\n",
       "      <td>18.0</td>\n",
       "      <td>...</td>\n",
       "      <td>30.0</td>\n",
       "      <td>5.0</td>\n",
       "      <td>15.0</td>\n",
       "      <td>16.0</td>\n",
       "      <td>6.0</td>\n",
       "      <td>16.0</td>\n",
       "      <td>17.0</td>\n",
       "      <td>4.0</td>\n",
       "      <td>15.0</td>\n",
       "      <td>16.0</td>\n",
       "    </tr>\n",
       "    <tr>\n",
       "      <th>3</th>\n",
       "      <td>P</td>\n",
       "      <td>2013000220663</td>\n",
       "      <td>9</td>\n",
       "      <td>03</td>\n",
       "      <td>11615</td>\n",
       "      <td>4</td>\n",
       "      <td>53</td>\n",
       "      <td>1061971</td>\n",
       "      <td>14.0</td>\n",
       "      <td>22.0</td>\n",
       "      <td>...</td>\n",
       "      <td>4.0</td>\n",
       "      <td>12.0</td>\n",
       "      <td>24.0</td>\n",
       "      <td>4.0</td>\n",
       "      <td>22.0</td>\n",
       "      <td>13.0</td>\n",
       "      <td>12.0</td>\n",
       "      <td>16.0</td>\n",
       "      <td>14.0</td>\n",
       "      <td>13.0</td>\n",
       "    </tr>\n",
       "    <tr>\n",
       "      <th>4</th>\n",
       "      <td>P</td>\n",
       "      <td>2013000354307</td>\n",
       "      <td>9</td>\n",
       "      <td>04</td>\n",
       "      <td>11604</td>\n",
       "      <td>4</td>\n",
       "      <td>53</td>\n",
       "      <td>1061971</td>\n",
       "      <td>73.0</td>\n",
       "      <td>20.0</td>\n",
       "      <td>...</td>\n",
       "      <td>85.0</td>\n",
       "      <td>73.0</td>\n",
       "      <td>97.0</td>\n",
       "      <td>97.0</td>\n",
       "      <td>27.0</td>\n",
       "      <td>25.0</td>\n",
       "      <td>29.0</td>\n",
       "      <td>71.0</td>\n",
       "      <td>118.0</td>\n",
       "      <td>101.0</td>\n",
       "    </tr>\n",
       "  </tbody>\n",
       "</table>\n",
       "<p>5 rows × 286 columns</p>\n",
       "</div>"
      ],
      "text/plain": [
       "  rt       serialno division sporder   puma region  st   adjinc  pwgtp  agep  \\\n",
       "0  P  2013000188706        9      03  11604      4  53  1061971   29.0  19.0   \n",
       "1  P  2013000179295        9      03  11612      4  53  1061971   74.0  16.0   \n",
       "2  P  2013000208643        9      04  11615      4  53  1061971   17.0  18.0   \n",
       "3  P  2013000220663        9      03  11615      4  53  1061971   14.0  22.0   \n",
       "4  P  2013000354307        9      04  11604      4  53  1061971   73.0  20.0   \n",
       "\n",
       "   ...  pwgtp71  pwgtp72 pwgtp73 pwgtp74 pwgtp75 pwgtp76 pwgtp77 pwgtp78  \\\n",
       "0  ...     29.0     40.0    13.0    10.0    44.0    34.0    42.0    57.0   \n",
       "1  ...    115.0     27.0    25.0    59.0    49.0   133.0   136.0    26.0   \n",
       "2  ...     30.0      5.0    15.0    16.0     6.0    16.0    17.0     4.0   \n",
       "3  ...      4.0     12.0    24.0     4.0    22.0    13.0    12.0    16.0   \n",
       "4  ...     85.0     73.0    97.0    97.0    27.0    25.0    29.0    71.0   \n",
       "\n",
       "  pwgtp79 pwgtp80  \n",
       "0    31.0     7.0  \n",
       "1    68.0   103.0  \n",
       "2    15.0    16.0  \n",
       "3    14.0    13.0  \n",
       "4   118.0   101.0  \n",
       "\n",
       "[5 rows x 286 columns]"
      ]
     },
     "execution_count": 508,
     "metadata": {},
     "output_type": "execute_result"
    }
   ],
   "source": [
    "df1.head()"
   ]
  },
  {
   "cell_type": "code",
   "execution_count": 495,
   "metadata": {},
   "outputs": [
    {
     "data": {
      "text/plain": [
       "{'11612': ['Federal Way,\\n Des moines Cities & Vashon island', 498.0],\n",
       " '11604': ['South East Seattle', 366.0],\n",
       " '11615': ['Maple Valley, Covingtion and Enumclaw Cities', 356.0],\n",
       " '11614': ['Auburn City & Lakeland', 309.0],\n",
       " '11613': ['Kent City', 262.0],\n",
       " '11611': ['Burien, SeaTac, Tukwita Cities', 202.0],\n",
       " '11610': ['Renton City, Fiarwood, Bryn Mawr and Skyway', 112.0]}"
      ]
     },
     "execution_count": 495,
     "metadata": {},
     "output_type": "execute_result"
    }
   ],
   "source": [
    "# dictionary of Puma number, name of it and population based on weighted amount. \n",
    "region_dic = {'11612': ['Federal Way,Des moines Cities & Vashon island', population['11612']], \n",
    " '11604': ['South East Seattle', population['11604']],\n",
    " '11615': ['Maple Valley, Covingtion and Enumclaw Cities',population['11615']],\n",
    " '11614': ['Auburn City & Lakeland', population['11614']],\n",
    " '11613': ['Kent City',population['11613']],\n",
    " '11611': ['Burien, SeaTac, Tukwita Cities',population['11611']],\n",
    " '11610': ['Renton City, Fiarwood, Bryn Mawr and Skyway', population['11610']]}\n",
    "region_dic"
   ]
  },
  {
   "cell_type": "code",
   "execution_count": 457,
   "metadata": {},
   "outputs": [],
   "source": [
    "city_list = [item[0] for item in region_dic.values()]  # created a list of the cities based on the region_dic \n",
    "estimated_population_region = [item[1] for item in region_dic.values()] # created a listed of the estimated population per region"
   ]
  },
  {
   "cell_type": "code",
   "execution_count": 496,
   "metadata": {},
   "outputs": [],
   "source": [
    "# adjusted city list so the string is on muliple lines in the graph\n",
    "city_list_adj = [sub.replace(',',',\\n') for sub in city_list]"
   ]
  },
  {
   "cell_type": "code",
   "execution_count": 501,
   "metadata": {},
   "outputs": [
    {
     "data": {
      "image/png": "[encoded data removed]",
      "text/plain": [
       "<Figure size 1872x720 with 1 Axes>"
      ]
     },
     "metadata": {
      "needs_background": "light"
     },
     "output_type": "display_data"
    }
   ],
   "source": [
    "#Printing a Bar graph of the population estimate per each puma(region)\n",
    "figure, ax = plt.subplots(1, 1, figsize = (26,10));\n",
    "\n",
    "x = city_list_adj;\n",
    "y = estimated_population_region;\n",
    "ax.bar(x, y);\n",
    "\n",
    "\n",
    "ax.set_ylabel('Estimated Quantity\\n of Opportunity Youth', fontsize = 16, rotation = 90, labelpad = 20);\n",
    "ax.set_xlabel('Regions', fontsize = 16, labelpad = 20);\n",
    "ax.set_title('Population Estimates of Oppurtunity Youth by South King County Regions', fontsize = 18);\n",
    "ax.set_xticklabels(city_list_adj, wrap = True);\n",
    "ax.tick_params(axis='both', which='major', labelsize=12, direction = 'in')\n",
    "                   "
   ]
  },
  {
   "cell_type": "code",
   "execution_count": null,
   "metadata": {},
   "outputs": [],
   "source": []
  }
 ],
 "metadata": {
  "kernelspec": {
   "display_name": "Python 3",
   "language": "python",
   "name": "python3"
  },
  "language_info": {
   "codemirror_mode": {
    "name": "ipython",
    "version": 3
   },
   "file_extension": ".py",
   "mimetype": "text/x-python",
   "name": "python",
   "nbconvert_exporter": "python",
   "pygments_lexer": "ipython3",
   "version": "3.8.3"
  }
 },
 "nbformat": 4,
 "nbformat_minor": 4
}
