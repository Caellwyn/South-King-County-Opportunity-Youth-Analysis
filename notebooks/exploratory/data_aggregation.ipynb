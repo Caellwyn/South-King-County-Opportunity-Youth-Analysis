{
 "cells": [
  {
   "cell_type": "markdown",
   "metadata": {},
   "source": [
    "# Data Aggregation"
   ]
  },
  {
   "cell_type": "markdown",
   "metadata": {},
   "source": [
    "We pull the data that was queried and cleaned in 'data_preparation.ipynb'.  'full_database.csv' represents the entire population of the 7 PUMA regions that we chose to study."
   ]
  },
  {
   "cell_type": "code",
   "execution_count": 67,
   "metadata": {},
   "outputs": [],
   "source": [
    "import pandas as pd\n",
    "import numpy as np"
   ]
  },
  {
   "cell_type": "code",
   "execution_count": 68,
   "metadata": {},
   "outputs": [
    {
     "data": {
      "text/plain": [
       "(39202, 5)"
      ]
     },
     "execution_count": 68,
     "metadata": {},
     "output_type": "execute_result"
    }
   ],
   "source": [
    "df_wg = pd.read_csv('full_database.csv')\n",
    "df_wg.shape"
   ]
  },
  {
   "cell_type": "code",
   "execution_count": 69,
   "metadata": {},
   "outputs": [
    {
     "name": "stdout",
     "output_type": "stream",
     "text": [
      "<class 'pandas.core.frame.DataFrame'>\n",
      "RangeIndex: 39202 entries, 0 to 39201\n",
      "Data columns (total 5 columns):\n",
      " #   Column              Non-Null Count  Dtype  \n",
      "---  ------              --------------  -----  \n",
      " 0   education_attained  39202 non-null  int64  \n",
      " 1   enrollment_status   39202 non-null  int64  \n",
      " 2   age                 39202 non-null  float64\n",
      " 3   sample_weight       39202 non-null  float64\n",
      " 4   employed            39202 non-null  int64  \n",
      "dtypes: float64(2), int64(3)\n",
      "memory usage: 1.5 MB\n"
     ]
    }
   ],
   "source": [
    "df_wg.info()"
   ]
  },
  {
   "cell_type": "markdown",
   "metadata": {},
   "source": [
    "### Focus on the Youth\n",
    "\n",
    "Create a subset of the data representing only the youth between 16 and 25 in the data, and bin youth into 3 age ranges."
   ]
  },
  {
   "cell_type": "code",
   "execution_count": 70,
   "metadata": {},
   "outputs": [
    {
     "name": "stderr",
     "output_type": "stream",
     "text": [
      "<ipython-input-70-20ff30d46cf1>:3: SettingWithCopyWarning: \n",
      "A value is trying to be set on a copy of a slice from a DataFrame.\n",
      "Try using .loc[row_indexer,col_indexer] = value instead\n",
      "\n",
      "See the caveats in the documentation: https://pandas.pydata.org/pandas-docs/stable/user_guide/indexing.html#returning-a-view-versus-a-copy\n",
      "  youth['age_range'] = (youth.age-16)//3\n"
     ]
    },
    {
     "data": {
      "text/html": [
       "<div>\n",
       "<style scoped>\n",
       "    .dataframe tbody tr th:only-of-type {\n",
       "        vertical-align: middle;\n",
       "    }\n",
       "\n",
       "    .dataframe tbody tr th {\n",
       "        vertical-align: top;\n",
       "    }\n",
       "\n",
       "    .dataframe thead th {\n",
       "        text-align: right;\n",
       "    }\n",
       "</style>\n",
       "<table border=\"1\" class=\"dataframe\">\n",
       "  <thead>\n",
       "    <tr style=\"text-align: right;\">\n",
       "      <th></th>\n",
       "      <th>education_attained</th>\n",
       "      <th>enrollment_status</th>\n",
       "      <th>age</th>\n",
       "      <th>sample_weight</th>\n",
       "      <th>employed</th>\n",
       "      <th>age_range</th>\n",
       "    </tr>\n",
       "  </thead>\n",
       "  <tbody>\n",
       "    <tr>\n",
       "      <th>13</th>\n",
       "      <td>21</td>\n",
       "      <td>0</td>\n",
       "      <td>24.0</td>\n",
       "      <td>20.0</td>\n",
       "      <td>1</td>\n",
       "      <td>2.0</td>\n",
       "    </tr>\n",
       "    <tr>\n",
       "      <th>14</th>\n",
       "      <td>21</td>\n",
       "      <td>0</td>\n",
       "      <td>24.0</td>\n",
       "      <td>15.0</td>\n",
       "      <td>1</td>\n",
       "      <td>2.0</td>\n",
       "    </tr>\n",
       "    <tr>\n",
       "      <th>28</th>\n",
       "      <td>18</td>\n",
       "      <td>1</td>\n",
       "      <td>19.0</td>\n",
       "      <td>30.0</td>\n",
       "      <td>0</td>\n",
       "      <td>1.0</td>\n",
       "    </tr>\n",
       "    <tr>\n",
       "      <th>31</th>\n",
       "      <td>13</td>\n",
       "      <td>1</td>\n",
       "      <td>17.0</td>\n",
       "      <td>36.0</td>\n",
       "      <td>0</td>\n",
       "      <td>0.0</td>\n",
       "    </tr>\n",
       "    <tr>\n",
       "      <th>37</th>\n",
       "      <td>16</td>\n",
       "      <td>0</td>\n",
       "      <td>19.0</td>\n",
       "      <td>36.0</td>\n",
       "      <td>0</td>\n",
       "      <td>1.0</td>\n",
       "    </tr>\n",
       "  </tbody>\n",
       "</table>\n",
       "</div>"
      ],
      "text/plain": [
       "    education_attained  enrollment_status   age  sample_weight  employed  \\\n",
       "13                  21                  0  24.0           20.0         1   \n",
       "14                  21                  0  24.0           15.0         1   \n",
       "28                  18                  1  19.0           30.0         0   \n",
       "31                  13                  1  17.0           36.0         0   \n",
       "37                  16                  0  19.0           36.0         0   \n",
       "\n",
       "    age_range  \n",
       "13        2.0  \n",
       "14        2.0  \n",
       "28        1.0  \n",
       "31        0.0  \n",
       "37        1.0  "
      ]
     },
     "execution_count": 70,
     "metadata": {},
     "output_type": "execute_result"
    }
   ],
   "source": [
    "youth = df_wg[(df_wg.age >=16) & (df_wg.age <=24)]\n",
    "\n",
    "youth['age_range'] = (youth.age-16)//3\n",
    "\n",
    "youth.head()"
   ]
  },
  {
   "cell_type": "markdown",
   "metadata": {},
   "source": [
    "## Create Aggregate Tables\n",
    "\n",
    "create some variables to help us with the aggregation"
   ]
  },
  {
   "cell_type": "code",
   "execution_count": 71,
   "metadata": {},
   "outputs": [],
   "source": [
    "# labels for age ranges\n",
    "ages = ['16-18', '19-21', '22-24']\n",
    "\n",
    "# variables for common filters\n",
    "no_diploma = (youth['education_attained'] < 16)\n",
    "not_enrolled = (youth['enrollment_status'] == 0)\n",
    "not_employed = (youth['employed'] == 0)\n",
    "opportunity = (not_enrolled & not_employed)"
   ]
  },
  {
   "cell_type": "markdown",
   "metadata": {},
   "source": [
    "### Table of Total Population of Youth in Region"
   ]
  },
  {
   "cell_type": "code",
   "execution_count": 72,
   "metadata": {},
   "outputs": [
    {
     "data": {
      "text/html": [
       "<div>\n",
       "<style scoped>\n",
       "    .dataframe tbody tr th:only-of-type {\n",
       "        vertical-align: middle;\n",
       "    }\n",
       "\n",
       "    .dataframe tbody tr th {\n",
       "        vertical-align: top;\n",
       "    }\n",
       "\n",
       "    .dataframe thead th {\n",
       "        text-align: right;\n",
       "    }\n",
       "</style>\n",
       "<table border=\"1\" class=\"dataframe\">\n",
       "  <thead>\n",
       "    <tr style=\"text-align: right;\">\n",
       "      <th></th>\n",
       "      <th>Total Population</th>\n",
       "      <th>Opportunity Youth</th>\n",
       "      <th>Working Without Diploma</th>\n",
       "      <th>Not an Opportunity Youth</th>\n",
       "    </tr>\n",
       "    <tr>\n",
       "      <th>ages</th>\n",
       "      <th></th>\n",
       "      <th></th>\n",
       "      <th></th>\n",
       "      <th></th>\n",
       "    </tr>\n",
       "  </thead>\n",
       "  <tbody>\n",
       "    <tr>\n",
       "      <th>16-18</th>\n",
       "      <td>33791.0</td>\n",
       "      <td>1941.0</td>\n",
       "      <td>449.0</td>\n",
       "      <td>31850.0</td>\n",
       "    </tr>\n",
       "    <tr>\n",
       "      <th>19-21</th>\n",
       "      <td>29915.0</td>\n",
       "      <td>4361.0</td>\n",
       "      <td>1539.0</td>\n",
       "      <td>25554.0</td>\n",
       "    </tr>\n",
       "    <tr>\n",
       "      <th>22-24</th>\n",
       "      <td>36277.0</td>\n",
       "      <td>5228.0</td>\n",
       "      <td>1737.0</td>\n",
       "      <td>31049.0</td>\n",
       "    </tr>\n",
       "  </tbody>\n",
       "</table>\n",
       "</div>"
      ],
      "text/plain": [
       "       Total Population  Opportunity Youth  Working Without Diploma  \\\n",
       "ages                                                                  \n",
       "16-18           33791.0             1941.0                    449.0   \n",
       "19-21           29915.0             4361.0                   1539.0   \n",
       "22-24           36277.0             5228.0                   1737.0   \n",
       "\n",
       "       Not an Opportunity Youth  \n",
       "ages                             \n",
       "16-18                   31850.0  \n",
       "19-21                   25554.0  \n",
       "22-24                   31049.0  "
      ]
     },
     "execution_count": 72,
     "metadata": {},
     "output_type": "execute_result"
    }
   ],
   "source": [
    "total_population = pd.DataFrame()\n",
    "\n",
    "total_population['Total Population'] = youth.groupby('age_range').sum()['sample_weight']\n",
    "total_population['Opportunity Youth'] = youth[opportunity].groupby('age_range').sum()['sample_weight']\n",
    "total_population['Working Without Diploma'] = youth[no_diploma & (not_employed == False) & not_enrolled].groupby('age_range').sum()['sample_weight']\n",
    "total_population['Not an Opportunity Youth'] = youth[opportunity == False].groupby('age_range').sum()['sample_weight']\n",
    "\n",
    "total_population['ages'] = ages\n",
    "total_population.set_index('ages', inplace = True)\n",
    "\n",
    "total_population"
   ]
  },
  {
   "cell_type": "markdown",
   "metadata": {},
   "source": [
    "### Table of Opportunity Youth"
   ]
  },
  {
   "cell_type": "code",
   "execution_count": 82,
   "metadata": {},
   "outputs": [
    {
     "data": {
      "text/html": [
       "<div>\n",
       "<style scoped>\n",
       "    .dataframe tbody tr th:only-of-type {\n",
       "        vertical-align: middle;\n",
       "    }\n",
       "\n",
       "    .dataframe tbody tr th {\n",
       "        vertical-align: top;\n",
       "    }\n",
       "\n",
       "    .dataframe thead th {\n",
       "        text-align: right;\n",
       "    }\n",
       "</style>\n",
       "<table border=\"1\" class=\"dataframe\">\n",
       "  <thead>\n",
       "    <tr style=\"text-align: right;\">\n",
       "      <th></th>\n",
       "      <th>Opportunity Youth</th>\n",
       "      <th>No diploma</th>\n",
       "      <th>HS diploma or GED</th>\n",
       "      <th>Some College, no degree</th>\n",
       "      <th>Degree (Associate or higher)</th>\n",
       "    </tr>\n",
       "    <tr>\n",
       "      <th>ages</th>\n",
       "      <th></th>\n",
       "      <th></th>\n",
       "      <th></th>\n",
       "      <th></th>\n",
       "      <th></th>\n",
       "    </tr>\n",
       "  </thead>\n",
       "  <tbody>\n",
       "    <tr>\n",
       "      <th>16-18</th>\n",
       "      <td>1941.0</td>\n",
       "      <td>986.0</td>\n",
       "      <td>812.0</td>\n",
       "      <td>143.0</td>\n",
       "      <td>0.0</td>\n",
       "    </tr>\n",
       "    <tr>\n",
       "      <th>19-21</th>\n",
       "      <td>4361.0</td>\n",
       "      <td>1180.0</td>\n",
       "      <td>2448.0</td>\n",
       "      <td>601.0</td>\n",
       "      <td>132.0</td>\n",
       "    </tr>\n",
       "    <tr>\n",
       "      <th>22-24</th>\n",
       "      <td>5228.0</td>\n",
       "      <td>1429.0</td>\n",
       "      <td>2171.0</td>\n",
       "      <td>1098.0</td>\n",
       "      <td>530.0</td>\n",
       "    </tr>\n",
       "  </tbody>\n",
       "</table>\n",
       "</div>"
      ],
      "text/plain": [
       "       Opportunity Youth  No diploma  HS diploma or GED  \\\n",
       "ages                                                      \n",
       "16-18             1941.0       986.0              812.0   \n",
       "19-21             4361.0      1180.0             2448.0   \n",
       "22-24             5228.0      1429.0             2171.0   \n",
       "\n",
       "       Some College, no degree  Degree (Associate or higher)  \n",
       "ages                                                          \n",
       "16-18                    143.0                           0.0  \n",
       "19-21                    601.0                         132.0  \n",
       "22-24                   1098.0                         530.0  "
      ]
     },
     "execution_count": 82,
     "metadata": {},
     "output_type": "execute_result"
    }
   ],
   "source": [
    "opportunity_youth = pd.DataFrame()\n",
    "\n",
    "opportunity_youth['Opportunity Youth'] = youth[opportunity].groupby('age_range').sum()['sample_weight']\n",
    "opportunity_youth['No diploma'] = youth[no_diploma & opportunity].groupby('age_range').sum()['sample_weight']\n",
    "opportunity_youth['HS diploma or GED'] = youth[youth.education_attained.isin([16,17]) & opportunity].groupby('age_range').sum()['sample_weight']\n",
    "opportunity_youth['Some College, no degree'] = youth[opportunity & youth.education_attained.isin([18,19])].groupby('age_range').sum()['sample_weight']\n",
    "opportunity_youth['Degree (Associate or higher)'] = youth[opportunity & (youth.education_attained > 19)].groupby('age_range').sum()['sample_weight']\n",
    "opportunity_youth.fillna(0, inplace = True)\n",
    "\n",
    "\n",
    "\n",
    "opportunity_youth['ages'] = ages\n",
    "opportunity_youth.set_index('ages', inplace = True)\n",
    "\n",
    "opportunity_youth"
   ]
  },
  {
   "cell_type": "markdown",
   "metadata": {},
   "source": [
    "### Pivot the Tables"
   ]
  },
  {
   "cell_type": "code",
   "execution_count": 102,
   "metadata": {
    "scrolled": true
   },
   "outputs": [
    {
     "data": {
      "text/html": [
       "<div>\n",
       "<style scoped>\n",
       "    .dataframe tbody tr th:only-of-type {\n",
       "        vertical-align: middle;\n",
       "    }\n",
       "\n",
       "    .dataframe tbody tr th {\n",
       "        vertical-align: top;\n",
       "    }\n",
       "\n",
       "    .dataframe thead th {\n",
       "        text-align: right;\n",
       "    }\n",
       "</style>\n",
       "<table border=\"1\" class=\"dataframe\">\n",
       "  <thead>\n",
       "    <tr style=\"text-align: right;\">\n",
       "      <th></th>\n",
       "      <th>16-18</th>\n",
       "      <th>%16-18</th>\n",
       "      <th>19-21</th>\n",
       "      <th>%19-21</th>\n",
       "      <th>22-14</th>\n",
       "      <th>%22-14</th>\n",
       "      <th>Totals</th>\n",
       "    </tr>\n",
       "  </thead>\n",
       "  <tbody>\n",
       "    <tr>\n",
       "      <th>Total Population</th>\n",
       "      <td>33791.0</td>\n",
       "      <td>100.00</td>\n",
       "      <td>29915.0</td>\n",
       "      <td>100.00</td>\n",
       "      <td>36277.0</td>\n",
       "      <td>100.00</td>\n",
       "      <td>100283.00</td>\n",
       "    </tr>\n",
       "    <tr>\n",
       "      <th>Opportunity Youth</th>\n",
       "      <td>1941.0</td>\n",
       "      <td>5.74</td>\n",
       "      <td>4361.0</td>\n",
       "      <td>14.58</td>\n",
       "      <td>5228.0</td>\n",
       "      <td>14.41</td>\n",
       "      <td>11564.73</td>\n",
       "    </tr>\n",
       "    <tr>\n",
       "      <th>Working Without Diploma</th>\n",
       "      <td>449.0</td>\n",
       "      <td>1.33</td>\n",
       "      <td>1539.0</td>\n",
       "      <td>5.14</td>\n",
       "      <td>1737.0</td>\n",
       "      <td>4.79</td>\n",
       "      <td>3736.26</td>\n",
       "    </tr>\n",
       "    <tr>\n",
       "      <th>Not an Opportunity Youth</th>\n",
       "      <td>31850.0</td>\n",
       "      <td>94.26</td>\n",
       "      <td>25554.0</td>\n",
       "      <td>85.42</td>\n",
       "      <td>31049.0</td>\n",
       "      <td>85.59</td>\n",
       "      <td>88718.27</td>\n",
       "    </tr>\n",
       "  </tbody>\n",
       "</table>\n",
       "</div>"
      ],
      "text/plain": [
       "                            16-18  %16-18    19-21  %19-21    22-14  %22-14  \\\n",
       "Total Population          33791.0  100.00  29915.0  100.00  36277.0  100.00   \n",
       "Opportunity Youth          1941.0    5.74   4361.0   14.58   5228.0   14.41   \n",
       "Working Without Diploma     449.0    1.33   1539.0    5.14   1737.0    4.79   \n",
       "Not an Opportunity Youth  31850.0   94.26  25554.0   85.42  31049.0   85.59   \n",
       "\n",
       "                             Totals  \n",
       "Total Population          100283.00  \n",
       "Opportunity Youth          11564.73  \n",
       "Working Without Diploma     3736.26  \n",
       "Not an Opportunity Youth   88718.27  "
      ]
     },
     "execution_count": 102,
     "metadata": {},
     "output_type": "execute_result"
    }
   ],
   "source": [
    "pivot0 = pd.DataFrame()\n",
    "pivot0['16-18'] = opportunity_youth.iloc[0,:]\n",
    "pivot0['19-21'] = opportunity_youth.iloc[1,:]\n",
    "pivot0['22-14'] = opportunity_youth.iloc[2,:]\n",
    "\n",
    "pivot1 = pd.DataFrame()\n",
    "pivot1['16-18'] = total_population.iloc[0,:]\n",
    "pivot1['19-21'] = total_population.iloc[1,:]\n",
    "pivot1['22-14'] = total_population.iloc[2,:]\n",
    "\n",
    "opportunity_youth_pivoted = pd.DataFrame()\n",
    "\n",
    "for col in pivot0.columns:\n",
    "    opportunity_youth_pivoted[col] = pivot0[col]\n",
    "    opportunity_youth_pivoted[f'%{col}'] = (pivot0[col]/pivot0.loc[\"Opportunity Youth\",col]*100).round(2)\n",
    "\n",
    "opportunity_youth_pivoted['Totals'] = [opportunity_youth_pivoted.loc[row,:].sum(axis=0) for row in opportunity_youth_pivoted.index]\n",
    "\n",
    "\n",
    "total_population_pivoted = pd.DataFrame()\n",
    "\n",
    "for col in pivot1.columns:\n",
    "    total_population_pivoted[col] = pivot1[col]\n",
    "    total_population_pivoted[f'%{col}'] = (pivot1[col]/pivot1.loc[\"Total Population\",col]*100).round(2)\n",
    "\n",
    "total_population_pivoted['Totals'] = [total_population_pivoted.loc[row,:].sum(axis=0) for row in total_population_pivoted.index]\n",
    "    \n",
    "total_population_pivoted"
   ]
  },
  {
   "cell_type": "code",
   "execution_count": 84,
   "metadata": {},
   "outputs": [
    {
     "data": {
      "text/html": [
       "<div>\n",
       "<style scoped>\n",
       "    .dataframe tbody tr th:only-of-type {\n",
       "        vertical-align: middle;\n",
       "    }\n",
       "\n",
       "    .dataframe tbody tr th {\n",
       "        vertical-align: top;\n",
       "    }\n",
       "\n",
       "    .dataframe thead th {\n",
       "        text-align: right;\n",
       "    }\n",
       "</style>\n",
       "<table border=\"1\" class=\"dataframe\">\n",
       "  <thead>\n",
       "    <tr style=\"text-align: right;\">\n",
       "      <th></th>\n",
       "      <th>16-18</th>\n",
       "      <th>%16-18</th>\n",
       "      <th>19-21</th>\n",
       "      <th>%19-21</th>\n",
       "      <th>22-14</th>\n",
       "      <th>%22-14</th>\n",
       "      <th>Totals</th>\n",
       "    </tr>\n",
       "  </thead>\n",
       "  <tbody>\n",
       "    <tr>\n",
       "      <th>Opportunity Youth</th>\n",
       "      <td>1941.0</td>\n",
       "      <td>100.00</td>\n",
       "      <td>4361.0</td>\n",
       "      <td>100.00</td>\n",
       "      <td>5228.0</td>\n",
       "      <td>100.00</td>\n",
       "      <td>NaN</td>\n",
       "    </tr>\n",
       "    <tr>\n",
       "      <th>No diploma</th>\n",
       "      <td>986.0</td>\n",
       "      <td>50.80</td>\n",
       "      <td>1180.0</td>\n",
       "      <td>27.06</td>\n",
       "      <td>1429.0</td>\n",
       "      <td>27.33</td>\n",
       "      <td>NaN</td>\n",
       "    </tr>\n",
       "    <tr>\n",
       "      <th>HS diploma or GED</th>\n",
       "      <td>812.0</td>\n",
       "      <td>41.83</td>\n",
       "      <td>2448.0</td>\n",
       "      <td>56.13</td>\n",
       "      <td>2171.0</td>\n",
       "      <td>41.53</td>\n",
       "      <td>NaN</td>\n",
       "    </tr>\n",
       "    <tr>\n",
       "      <th>Some College, no degree</th>\n",
       "      <td>143.0</td>\n",
       "      <td>7.37</td>\n",
       "      <td>601.0</td>\n",
       "      <td>13.78</td>\n",
       "      <td>1098.0</td>\n",
       "      <td>21.00</td>\n",
       "      <td>NaN</td>\n",
       "    </tr>\n",
       "    <tr>\n",
       "      <th>Degree (Associate or higher)</th>\n",
       "      <td>0.0</td>\n",
       "      <td>0.00</td>\n",
       "      <td>132.0</td>\n",
       "      <td>3.03</td>\n",
       "      <td>530.0</td>\n",
       "      <td>10.14</td>\n",
       "      <td>NaN</td>\n",
       "    </tr>\n",
       "  </tbody>\n",
       "</table>\n",
       "</div>"
      ],
      "text/plain": [
       "                               16-18  %16-18   19-21  %19-21   22-14  %22-14  \\\n",
       "Opportunity Youth             1941.0  100.00  4361.0  100.00  5228.0  100.00   \n",
       "No diploma                     986.0   50.80  1180.0   27.06  1429.0   27.33   \n",
       "HS diploma or GED              812.0   41.83  2448.0   56.13  2171.0   41.53   \n",
       "Some College, no degree        143.0    7.37   601.0   13.78  1098.0   21.00   \n",
       "Degree (Associate or higher)     0.0    0.00   132.0    3.03   530.0   10.14   \n",
       "\n",
       "                              Totals  \n",
       "Opportunity Youth                NaN  \n",
       "No diploma                       NaN  \n",
       "HS diploma or GED                NaN  \n",
       "Some College, no degree          NaN  \n",
       "Degree (Associate or higher)     NaN  "
      ]
     },
     "execution_count": 84,
     "metadata": {},
     "output_type": "execute_result"
    }
   ],
   "source": [
    "opportunity_youth_pivoted\n"
   ]
  },
  {
   "cell_type": "code",
   "execution_count": 45,
   "metadata": {},
   "outputs": [],
   "source": [
    "opportunity_youth.to_csv('opportunity_youth_pivoted.csv')\n",
    "total_population.to_csv('total_population_pivoted.csv')"
   ]
  },
  {
   "cell_type": "code",
   "execution_count": null,
   "metadata": {},
   "outputs": [],
   "source": []
  }
 ],
 "metadata": {
  "kernelspec": {
   "display_name": "the real (oy-env)",
   "language": "python",
   "name": "oy-env"
  },
  "language_info": {
   "codemirror_mode": {
    "name": "ipython",
    "version": 3
   },
   "file_extension": ".py",
   "mimetype": "text/x-python",
   "name": "python",
   "nbconvert_exporter": "python",
   "pygments_lexer": "ipython3",
   "version": "3.8.3"
  }
 },
 "nbformat": 4,
 "nbformat_minor": 4
}
